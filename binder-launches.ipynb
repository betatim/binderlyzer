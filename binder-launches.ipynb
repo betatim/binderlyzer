{
 "cells": [
  {
   "cell_type": "markdown",
   "metadata": {},
   "source": [
    "# Analysing mybinder.org launches\n",
    "\n",
    "The first few cells download and massage the data. Later on we answer questions on which repositories are popular and such."
   ]
  },
  {
   "cell_type": "code",
   "execution_count": 1,
   "metadata": {},
   "outputs": [],
   "source": [
    "%matplotlib inline\n",
    "import matplotlib.pyplot as plt\n",
    "\n",
    "import datetime\n",
    "\n",
    "import pandas as pd"
   ]
  },
  {
   "cell_type": "code",
   "execution_count": 2,
   "metadata": {},
   "outputs": [],
   "source": [
    "index = pd.read_json(\"https://archive.analytics.mybinder.org/index.jsonl\",\n",
    "                     lines=True)"
   ]
  },
  {
   "cell_type": "code",
   "execution_count": 3,
   "metadata": {},
   "outputs": [
    {
     "name": "stdout",
     "output_type": "stream",
     "text": [
      "Fetched data for 178 days.\n"
     ]
    }
   ],
   "source": [
    "# get all days since start of 2019\n",
    "now = datetime.datetime.now()\n",
    "n = (now - datetime.datetime(2019, 1, 1)).days\n",
    "\n",
    "# small range for previewing\n",
    "#n = 30\n",
    "\n",
    "frames = []\n",
    "for idx, day in index.sort_index(ascending=False).iterrows():\n",
    "    df = pd.read_json(\"https://archive.analytics.mybinder.org/{}\".format(day['name']),\n",
    "                      lines=True, )\n",
    "    frames.append(df)\n",
    "    if len(frames) > n:\n",
    "        break\n",
    "        \n",
    "print(f\"Fetched data for {n} days.\")"
   ]
  },
  {
   "cell_type": "code",
   "execution_count": 4,
   "metadata": {},
   "outputs": [
    {
     "name": "stderr",
     "output_type": "stream",
     "text": [
      "/srv/conda/envs/notebook/lib/python3.7/site-packages/ipykernel_launcher.py:1: FutureWarning: Sorting because non-concatenation axis is not aligned. A future version\n",
      "of pandas will change to not sort by default.\n",
      "\n",
      "To accept the future behavior, pass 'sort=False'.\n",
      "\n",
      "To retain the current behavior and silence the warning, pass 'sort=True'.\n",
      "\n",
      "  \"\"\"Entry point for launching an IPython kernel.\n"
     ]
    }
   ],
   "source": [
    "df = pd.concat(frames)"
   ]
  },
  {
   "cell_type": "code",
   "execution_count": 5,
   "metadata": {},
   "outputs": [],
   "source": [
    "# make it easier to grab the ref\n",
    "def get_repo(spec):\n",
    "    s = spec.rsplit(\"/\", 1)[0]\n",
    "    if s.endswith('.git'):\n",
    "        s = s[:-4]\n",
    "    return s\n",
    "df['repo'] = df['spec'].apply(get_repo) #lambda s: s.rsplit(\"/\", 1)[0].replace(\".git\", \"\"))\n",
    "df['org'] = df['spec'].apply(lambda s: s.split(\"/\", 1)[0])\n",
    "df['ref'] = df['spec'].apply(lambda s: s.rsplit(\"/\", 1)[1])"
   ]
  },
  {
   "cell_type": "code",
   "execution_count": 6,
   "metadata": {},
   "outputs": [
    {
     "data": {
      "text/html": [
       "<div>\n",
       "<style scoped>\n",
       "    .dataframe tbody tr th:only-of-type {\n",
       "        vertical-align: middle;\n",
       "    }\n",
       "\n",
       "    .dataframe tbody tr th {\n",
       "        vertical-align: top;\n",
       "    }\n",
       "\n",
       "    .dataframe thead th {\n",
       "        text-align: right;\n",
       "    }\n",
       "</style>\n",
       "<table border=\"1\" class=\"dataframe\">\n",
       "  <thead>\n",
       "    <tr style=\"text-align: right;\">\n",
       "      <th></th>\n",
       "      <th>origin</th>\n",
       "      <th>provider</th>\n",
       "      <th>schema</th>\n",
       "      <th>spec</th>\n",
       "      <th>status</th>\n",
       "      <th>timestamp</th>\n",
       "      <th>version</th>\n",
       "      <th>repo</th>\n",
       "      <th>org</th>\n",
       "      <th>ref</th>\n",
       "    </tr>\n",
       "  </thead>\n",
       "  <tbody>\n",
       "    <tr>\n",
       "      <th>4213</th>\n",
       "      <td>NaN</td>\n",
       "      <td>GitHub</td>\n",
       "      <td>binderhub.jupyter.org/launch</td>\n",
       "      <td>ipython/ipython-in-depth/master</td>\n",
       "      <td>success</td>\n",
       "      <td>2019-04-28 11:49:00</td>\n",
       "      <td>2</td>\n",
       "      <td>ipython/ipython-in-depth</td>\n",
       "      <td>ipython</td>\n",
       "      <td>master</td>\n",
       "    </tr>\n",
       "    <tr>\n",
       "      <th>2498</th>\n",
       "      <td>gke.mybinder.org</td>\n",
       "      <td>GitHub</td>\n",
       "      <td>binderhub.jupyter.org/launch</td>\n",
       "      <td>ipython/ipython-in-depth/master</td>\n",
       "      <td>success</td>\n",
       "      <td>2019-06-28 03:50:00</td>\n",
       "      <td>3</td>\n",
       "      <td>ipython/ipython-in-depth</td>\n",
       "      <td>ipython</td>\n",
       "      <td>master</td>\n",
       "    </tr>\n",
       "    <tr>\n",
       "      <th>1092</th>\n",
       "      <td>NaN</td>\n",
       "      <td>GitHub</td>\n",
       "      <td>binderhub.jupyter.org/launch</td>\n",
       "      <td>ComputoCienciasUniandes/FISI2028-201910/master</td>\n",
       "      <td>success</td>\n",
       "      <td>2019-04-03 02:22:00</td>\n",
       "      <td>2</td>\n",
       "      <td>ComputoCienciasUniandes/FISI2028-201910</td>\n",
       "      <td>ComputoCienciasUniandes</td>\n",
       "      <td>master</td>\n",
       "    </tr>\n",
       "    <tr>\n",
       "      <th>9971</th>\n",
       "      <td>NaN</td>\n",
       "      <td>GitHub</td>\n",
       "      <td>binderhub.jupyter.org/launch</td>\n",
       "      <td>ipython/ipython-in-depth/master</td>\n",
       "      <td>success</td>\n",
       "      <td>2019-05-31 19:05:00</td>\n",
       "      <td>2</td>\n",
       "      <td>ipython/ipython-in-depth</td>\n",
       "      <td>ipython</td>\n",
       "      <td>master</td>\n",
       "    </tr>\n",
       "    <tr>\n",
       "      <th>4994</th>\n",
       "      <td>NaN</td>\n",
       "      <td>GitHub</td>\n",
       "      <td>binderhub.jupyter.org/launch</td>\n",
       "      <td>ipython/ipython-in-depth/master</td>\n",
       "      <td>success</td>\n",
       "      <td>2019-02-05 11:03:00</td>\n",
       "      <td>1</td>\n",
       "      <td>ipython/ipython-in-depth</td>\n",
       "      <td>ipython</td>\n",
       "      <td>master</td>\n",
       "    </tr>\n",
       "    <tr>\n",
       "      <th>13361</th>\n",
       "      <td>NaN</td>\n",
       "      <td>GitHub</td>\n",
       "      <td>binderhub.jupyter.org/launch</td>\n",
       "      <td>ipython/ipython-in-depth/master</td>\n",
       "      <td>success</td>\n",
       "      <td>2019-03-20 19:45:00</td>\n",
       "      <td>1</td>\n",
       "      <td>ipython/ipython-in-depth</td>\n",
       "      <td>ipython</td>\n",
       "      <td>master</td>\n",
       "    </tr>\n",
       "    <tr>\n",
       "      <th>8003</th>\n",
       "      <td>NaN</td>\n",
       "      <td>GitHub</td>\n",
       "      <td>binderhub.jupyter.org/launch</td>\n",
       "      <td>ines/spacy-io-binder/live</td>\n",
       "      <td>success</td>\n",
       "      <td>2019-01-14 14:41:00</td>\n",
       "      <td>1</td>\n",
       "      <td>ines/spacy-io-binder</td>\n",
       "      <td>ines</td>\n",
       "      <td>live</td>\n",
       "    </tr>\n",
       "    <tr>\n",
       "      <th>10963</th>\n",
       "      <td>NaN</td>\n",
       "      <td>GitHub</td>\n",
       "      <td>binderhub.jupyter.org/launch</td>\n",
       "      <td>QISKit/qiskit-tutorial/master</td>\n",
       "      <td>success</td>\n",
       "      <td>2019-01-28 16:05:00</td>\n",
       "      <td>1</td>\n",
       "      <td>QISKit/qiskit-tutorial</td>\n",
       "      <td>QISKit</td>\n",
       "      <td>master</td>\n",
       "    </tr>\n",
       "    <tr>\n",
       "      <th>6616</th>\n",
       "      <td>NaN</td>\n",
       "      <td>GitHub</td>\n",
       "      <td>binderhub.jupyter.org/launch</td>\n",
       "      <td>ipython/ipython-in-depth/master</td>\n",
       "      <td>success</td>\n",
       "      <td>2019-02-01 14:01:00</td>\n",
       "      <td>1</td>\n",
       "      <td>ipython/ipython-in-depth</td>\n",
       "      <td>ipython</td>\n",
       "      <td>master</td>\n",
       "    </tr>\n",
       "    <tr>\n",
       "      <th>5845</th>\n",
       "      <td>gke.mybinder.org</td>\n",
       "      <td>GitHub</td>\n",
       "      <td>binderhub.jupyter.org/launch</td>\n",
       "      <td>binder-examples/r/master</td>\n",
       "      <td>success</td>\n",
       "      <td>2019-06-21 08:38:00</td>\n",
       "      <td>3</td>\n",
       "      <td>binder-examples/r</td>\n",
       "      <td>binder-examples</td>\n",
       "      <td>master</td>\n",
       "    </tr>\n",
       "  </tbody>\n",
       "</table>\n",
       "</div>"
      ],
      "text/plain": [
       "                 origin provider                        schema  \\\n",
       "4213                NaN   GitHub  binderhub.jupyter.org/launch   \n",
       "2498   gke.mybinder.org   GitHub  binderhub.jupyter.org/launch   \n",
       "1092                NaN   GitHub  binderhub.jupyter.org/launch   \n",
       "9971                NaN   GitHub  binderhub.jupyter.org/launch   \n",
       "4994                NaN   GitHub  binderhub.jupyter.org/launch   \n",
       "13361               NaN   GitHub  binderhub.jupyter.org/launch   \n",
       "8003                NaN   GitHub  binderhub.jupyter.org/launch   \n",
       "10963               NaN   GitHub  binderhub.jupyter.org/launch   \n",
       "6616                NaN   GitHub  binderhub.jupyter.org/launch   \n",
       "5845   gke.mybinder.org   GitHub  binderhub.jupyter.org/launch   \n",
       "\n",
       "                                                 spec   status  \\\n",
       "4213                  ipython/ipython-in-depth/master  success   \n",
       "2498                  ipython/ipython-in-depth/master  success   \n",
       "1092   ComputoCienciasUniandes/FISI2028-201910/master  success   \n",
       "9971                  ipython/ipython-in-depth/master  success   \n",
       "4994                  ipython/ipython-in-depth/master  success   \n",
       "13361                 ipython/ipython-in-depth/master  success   \n",
       "8003                        ines/spacy-io-binder/live  success   \n",
       "10963                   QISKit/qiskit-tutorial/master  success   \n",
       "6616                  ipython/ipython-in-depth/master  success   \n",
       "5845                         binder-examples/r/master  success   \n",
       "\n",
       "                timestamp  version                                     repo  \\\n",
       "4213  2019-04-28 11:49:00        2                 ipython/ipython-in-depth   \n",
       "2498  2019-06-28 03:50:00        3                 ipython/ipython-in-depth   \n",
       "1092  2019-04-03 02:22:00        2  ComputoCienciasUniandes/FISI2028-201910   \n",
       "9971  2019-05-31 19:05:00        2                 ipython/ipython-in-depth   \n",
       "4994  2019-02-05 11:03:00        1                 ipython/ipython-in-depth   \n",
       "13361 2019-03-20 19:45:00        1                 ipython/ipython-in-depth   \n",
       "8003  2019-01-14 14:41:00        1                     ines/spacy-io-binder   \n",
       "10963 2019-01-28 16:05:00        1                   QISKit/qiskit-tutorial   \n",
       "6616  2019-02-01 14:01:00        1                 ipython/ipython-in-depth   \n",
       "5845  2019-06-21 08:38:00        3                        binder-examples/r   \n",
       "\n",
       "                           org     ref  \n",
       "4213                   ipython  master  \n",
       "2498                   ipython  master  \n",
       "1092   ComputoCienciasUniandes  master  \n",
       "9971                   ipython  master  \n",
       "4994                   ipython  master  \n",
       "13361                  ipython  master  \n",
       "8003                      ines    live  \n",
       "10963                   QISKit  master  \n",
       "6616                   ipython  master  \n",
       "5845           binder-examples  master  "
      ]
     },
     "execution_count": 6,
     "metadata": {},
     "output_type": "execute_result"
    }
   ],
   "source": [
    "# take a look at the data, does it look sensible?\n",
    "df.sample(10)"
   ]
  },
  {
   "cell_type": "code",
   "execution_count": 7,
   "metadata": {},
   "outputs": [],
   "source": [
    "df = df.drop(columns=['schema', 'version', 'spec', 'status'])"
   ]
  },
  {
   "cell_type": "code",
   "execution_count": 8,
   "metadata": {},
   "outputs": [
    {
     "data": {
      "text/html": [
       "<div>\n",
       "<style scoped>\n",
       "    .dataframe tbody tr th:only-of-type {\n",
       "        vertical-align: middle;\n",
       "    }\n",
       "\n",
       "    .dataframe tbody tr th {\n",
       "        vertical-align: top;\n",
       "    }\n",
       "\n",
       "    .dataframe thead th {\n",
       "        text-align: right;\n",
       "    }\n",
       "</style>\n",
       "<table border=\"1\" class=\"dataframe\">\n",
       "  <thead>\n",
       "    <tr style=\"text-align: right;\">\n",
       "      <th></th>\n",
       "      <th>origin</th>\n",
       "      <th>provider</th>\n",
       "      <th>timestamp</th>\n",
       "      <th>repo</th>\n",
       "      <th>org</th>\n",
       "      <th>ref</th>\n",
       "    </tr>\n",
       "  </thead>\n",
       "  <tbody>\n",
       "    <tr>\n",
       "      <th>0</th>\n",
       "      <td>gke.mybinder.org</td>\n",
       "      <td>GitHub</td>\n",
       "      <td>2019-06-28 00:00:00</td>\n",
       "      <td>jupyterlab/jupyterlab-demo</td>\n",
       "      <td>jupyterlab</td>\n",
       "      <td>master</td>\n",
       "    </tr>\n",
       "    <tr>\n",
       "      <th>1</th>\n",
       "      <td>gke.mybinder.org</td>\n",
       "      <td>GitHub</td>\n",
       "      <td>2019-06-28 00:01:00</td>\n",
       "      <td>ipython/ipython-in-depth</td>\n",
       "      <td>ipython</td>\n",
       "      <td>master</td>\n",
       "    </tr>\n",
       "    <tr>\n",
       "      <th>2</th>\n",
       "      <td>gke.mybinder.org</td>\n",
       "      <td>GitHub</td>\n",
       "      <td>2019-06-28 00:01:00</td>\n",
       "      <td>ipython/ipython-in-depth</td>\n",
       "      <td>ipython</td>\n",
       "      <td>master</td>\n",
       "    </tr>\n",
       "    <tr>\n",
       "      <th>3</th>\n",
       "      <td>gke.mybinder.org</td>\n",
       "      <td>GitHub</td>\n",
       "      <td>2019-06-28 00:01:00</td>\n",
       "      <td>ipython/ipython-in-depth</td>\n",
       "      <td>ipython</td>\n",
       "      <td>master</td>\n",
       "    </tr>\n",
       "    <tr>\n",
       "      <th>4</th>\n",
       "      <td>gke.mybinder.org</td>\n",
       "      <td>GitHub</td>\n",
       "      <td>2019-06-28 00:01:00</td>\n",
       "      <td>jupyterlab/jupyterlab-demo</td>\n",
       "      <td>jupyterlab</td>\n",
       "      <td>master</td>\n",
       "    </tr>\n",
       "  </tbody>\n",
       "</table>\n",
       "</div>"
      ],
      "text/plain": [
       "             origin provider           timestamp                        repo  \\\n",
       "0  gke.mybinder.org   GitHub 2019-06-28 00:00:00  jupyterlab/jupyterlab-demo   \n",
       "1  gke.mybinder.org   GitHub 2019-06-28 00:01:00    ipython/ipython-in-depth   \n",
       "2  gke.mybinder.org   GitHub 2019-06-28 00:01:00    ipython/ipython-in-depth   \n",
       "3  gke.mybinder.org   GitHub 2019-06-28 00:01:00    ipython/ipython-in-depth   \n",
       "4  gke.mybinder.org   GitHub 2019-06-28 00:01:00  jupyterlab/jupyterlab-demo   \n",
       "\n",
       "          org     ref  \n",
       "0  jupyterlab  master  \n",
       "1     ipython  master  \n",
       "2     ipython  master  \n",
       "3     ipython  master  \n",
       "4  jupyterlab  master  "
      ]
     },
     "execution_count": 8,
     "metadata": {},
     "output_type": "execute_result"
    }
   ],
   "source": [
    "df.head()"
   ]
  },
  {
   "cell_type": "markdown",
   "metadata": {},
   "source": [
    "## Monthly, weekly, daily active repos"
   ]
  },
  {
   "cell_type": "code",
   "execution_count": 9,
   "metadata": {},
   "outputs": [],
   "source": [
    "df_ = df.set_index(\"timestamp\")"
   ]
  },
  {
   "cell_type": "code",
   "execution_count": 10,
   "metadata": {},
   "outputs": [],
   "source": [
    "def n_active_repos(period=30):\n",
    "    \"\"\"Unique active repos over the period\n",
    "    \n",
    "    With period=30 this gives monthly active repos\n",
    "    With period=1 you get daily active repos\n",
    "    \"\"\"\n",
    "    now = datetime.datetime.now()\n",
    "    start = datetime.datetime(2019, 1, 1)\n",
    "    days_since_start = (now - start).days\n",
    "\n",
    "    data = []\n",
    "\n",
    "    for n in range(days_since_start):\n",
    "        s = start + datetime.timedelta(days=n)\n",
    "        e = start + datetime.timedelta(days=n+period)\n",
    "        if e > now:\n",
    "            break\n",
    "\n",
    "        # our \"monthly\" data\n",
    "        monthly = df_.loc[s.isoformat():e.isoformat()]\n",
    "        data.append(dict(timestamp=e, repos=len(set(monthly.repo))))\n",
    "        \n",
    "    return pd.DataFrame.from_records(data).set_index(\"timestamp\")"
   ]
  },
  {
   "cell_type": "code",
   "execution_count": 11,
   "metadata": {},
   "outputs": [],
   "source": [
    "monthly_active = n_active_repos(30)\n",
    "weekly_active = n_active_repos(7)\n",
    "daily_active = n_active_repos(1)"
   ]
  },
  {
   "cell_type": "code",
   "execution_count": 12,
   "metadata": {},
   "outputs": [
    {
     "data": {
      "image/png": "[encoded data removed]",
      "text/plain": [
       "<Figure size 432x288 with 1 Axes>"
      ]
     },
     "metadata": {
      "needs_background": "light"
     },
     "output_type": "display_data"
    }
   ],
   "source": [
    "activity = pd.merge(monthly_active, daily_active,\n",
    "                    suffixes=(\"_monthly\", \"_daily\"), left_index=True, right_index=True)\n",
    "activity = pd.merge(activity, weekly_active, left_index=True, right_index=True)\n",
    "\n",
    "activity.columns = ['30day active', '1d active', '7d active']\n",
    "activity.plot();"
   ]
  },
  {
   "cell_type": "code",
   "execution_count": null,
   "metadata": {},
   "outputs": [],
   "source": []
  },
  {
   "cell_type": "code",
   "execution_count": null,
   "metadata": {},
   "outputs": [],
   "source": []
  },
  {
   "cell_type": "markdown",
   "metadata": {},
   "source": [
    "## Total launches"
   ]
  },
  {
   "cell_type": "code",
   "execution_count": 13,
   "metadata": {},
   "outputs": [
    {
     "data": {
      "text/plain": [
       "(2342498, 6)"
      ]
     },
     "execution_count": 13,
     "metadata": {},
     "output_type": "execute_result"
    }
   ],
   "source": [
    "# Sneak peek: total launches!\n",
    "df.shape"
   ]
  },
  {
   "cell_type": "markdown",
   "metadata": {},
   "source": [
    "## Launches per day"
   ]
  },
  {
   "cell_type": "code",
   "execution_count": 14,
   "metadata": {},
   "outputs": [],
   "source": [
    "daily = df.set_index(\"timestamp\").resample('D').count()"
   ]
  },
  {
   "cell_type": "code",
   "execution_count": 15,
   "metadata": {},
   "outputs": [
    {
     "data": {
      "text/plain": [
       "<matplotlib.axes._subplots.AxesSubplot at 0x7fe7cea5c908>"
      ]
     },
     "execution_count": 15,
     "metadata": {},
     "output_type": "execute_result"
    },
    {
     "data": {
      "image/png": "[encoded data removed]",
      "text/plain": [
       "<Figure size 432x288 with 1 Axes>"
      ]
     },
     "metadata": {
      "needs_background": "light"
     },
     "output_type": "display_data"
    }
   ],
   "source": [
    "daily['repo'].plot()"
   ]
  },
  {
   "cell_type": "code",
   "execution_count": null,
   "metadata": {},
   "outputs": [],
   "source": []
  },
  {
   "cell_type": "code",
   "execution_count": null,
   "metadata": {},
   "outputs": [],
   "source": []
  },
  {
   "cell_type": "markdown",
   "metadata": {},
   "source": [
    "## Estimate number of unique repositories\n",
    "\n",
    "Expect the raw number of launches to be bigger than the number of repositories launched more than once. Those launched only once might have been accidents."
   ]
  },
  {
   "cell_type": "code",
   "execution_count": 16,
   "metadata": {
    "scrolled": true
   },
   "outputs": [
    {
     "data": {
      "text/plain": [
       "17081"
      ]
     },
     "execution_count": 16,
     "metadata": {},
     "output_type": "execute_result"
    }
   ],
   "source": [
    "len(set(df.repo))"
   ]
  },
  {
   "cell_type": "code",
   "execution_count": 17,
   "metadata": {},
   "outputs": [
    {
     "data": {
      "text/plain": [
       "8014"
      ]
     },
     "execution_count": 17,
     "metadata": {},
     "output_type": "execute_result"
    }
   ],
   "source": [
    "from collections import Counter\n",
    "\n",
    "sum(1 for k,v in Counter(df.repo).items() if v > 3)"
   ]
  },
  {
   "cell_type": "markdown",
   "metadata": {},
   "source": [
    "## Popular repositories and their branches\n",
    "\n",
    "Twenty most popular repos:"
   ]
  },
  {
   "cell_type": "code",
   "execution_count": 18,
   "metadata": {},
   "outputs": [
    {
     "data": {
      "text/html": [
       "<div>\n",
       "<style scoped>\n",
       "    .dataframe tbody tr th:only-of-type {\n",
       "        vertical-align: middle;\n",
       "    }\n",
       "\n",
       "    .dataframe tbody tr th {\n",
       "        vertical-align: top;\n",
       "    }\n",
       "\n",
       "    .dataframe thead th {\n",
       "        text-align: right;\n",
       "    }\n",
       "</style>\n",
       "<table border=\"1\" class=\"dataframe\">\n",
       "  <thead>\n",
       "    <tr style=\"text-align: right;\">\n",
       "      <th></th>\n",
       "      <th>origin</th>\n",
       "      <th>provider</th>\n",
       "      <th>timestamp</th>\n",
       "      <th>org</th>\n",
       "      <th>ref</th>\n",
       "    </tr>\n",
       "    <tr>\n",
       "      <th>repo</th>\n",
       "      <th></th>\n",
       "      <th></th>\n",
       "      <th></th>\n",
       "      <th></th>\n",
       "      <th></th>\n",
       "    </tr>\n",
       "  </thead>\n",
       "  <tbody>\n",
       "    <tr>\n",
       "      <th>ipython/ipython-in-depth</th>\n",
       "      <td>97857</td>\n",
       "      <td>1096129</td>\n",
       "      <td>1096129</td>\n",
       "      <td>1096129</td>\n",
       "      <td>1096129</td>\n",
       "    </tr>\n",
       "    <tr>\n",
       "      <th>jupyterlab/jupyterlab-demo</th>\n",
       "      <td>20716</td>\n",
       "      <td>242607</td>\n",
       "      <td>242607</td>\n",
       "      <td>242607</td>\n",
       "      <td>242607</td>\n",
       "    </tr>\n",
       "    <tr>\n",
       "      <th>ines/spacy-io-binder</th>\n",
       "      <td>9417</td>\n",
       "      <td>101270</td>\n",
       "      <td>101270</td>\n",
       "      <td>101270</td>\n",
       "      <td>101270</td>\n",
       "    </tr>\n",
       "    <tr>\n",
       "      <th>DS-100/textbook</th>\n",
       "      <td>6345</td>\n",
       "      <td>97981</td>\n",
       "      <td>97981</td>\n",
       "      <td>97981</td>\n",
       "      <td>97981</td>\n",
       "    </tr>\n",
       "    <tr>\n",
       "      <th>bokeh/bokeh-notebooks</th>\n",
       "      <td>4673</td>\n",
       "      <td>48752</td>\n",
       "      <td>48752</td>\n",
       "      <td>48752</td>\n",
       "      <td>48752</td>\n",
       "    </tr>\n",
       "    <tr>\n",
       "      <th>binder-examples/r</th>\n",
       "      <td>2667</td>\n",
       "      <td>35321</td>\n",
       "      <td>35321</td>\n",
       "      <td>35321</td>\n",
       "      <td>35321</td>\n",
       "    </tr>\n",
       "    <tr>\n",
       "      <th>rationalmatter/juno-demo-notebooks</th>\n",
       "      <td>2536</td>\n",
       "      <td>31552</td>\n",
       "      <td>31552</td>\n",
       "      <td>31552</td>\n",
       "      <td>31552</td>\n",
       "    </tr>\n",
       "    <tr>\n",
       "      <th>QuantStack/xeus-cling</th>\n",
       "      <td>2056</td>\n",
       "      <td>27093</td>\n",
       "      <td>27093</td>\n",
       "      <td>27093</td>\n",
       "      <td>27093</td>\n",
       "    </tr>\n",
       "    <tr>\n",
       "      <th>ines/spacy-course</th>\n",
       "      <td>2829</td>\n",
       "      <td>17411</td>\n",
       "      <td>17411</td>\n",
       "      <td>17411</td>\n",
       "      <td>17411</td>\n",
       "    </tr>\n",
       "    <tr>\n",
       "      <th>binder-examples/requirements</th>\n",
       "      <td>2874</td>\n",
       "      <td>17194</td>\n",
       "      <td>17194</td>\n",
       "      <td>17194</td>\n",
       "      <td>17194</td>\n",
       "    </tr>\n",
       "    <tr>\n",
       "      <th>RasaHQ/rasa_core</th>\n",
       "      <td>62</td>\n",
       "      <td>15900</td>\n",
       "      <td>15900</td>\n",
       "      <td>15900</td>\n",
       "      <td>15900</td>\n",
       "    </tr>\n",
       "    <tr>\n",
       "      <th>numba/numba-examples</th>\n",
       "      <td>1216</td>\n",
       "      <td>15623</td>\n",
       "      <td>15623</td>\n",
       "      <td>15623</td>\n",
       "      <td>15623</td>\n",
       "    </tr>\n",
       "    <tr>\n",
       "      <th>binder-examples/julia-python</th>\n",
       "      <td>1084</td>\n",
       "      <td>15012</td>\n",
       "      <td>15012</td>\n",
       "      <td>15012</td>\n",
       "      <td>15012</td>\n",
       "    </tr>\n",
       "    <tr>\n",
       "      <th>QISKit/qiskit-tutorial</th>\n",
       "      <td>60</td>\n",
       "      <td>14413</td>\n",
       "      <td>14413</td>\n",
       "      <td>14413</td>\n",
       "      <td>14413</td>\n",
       "    </tr>\n",
       "    <tr>\n",
       "      <th>dask/dask-examples</th>\n",
       "      <td>1085</td>\n",
       "      <td>8948</td>\n",
       "      <td>8948</td>\n",
       "      <td>8948</td>\n",
       "      <td>8948</td>\n",
       "    </tr>\n",
       "    <tr>\n",
       "      <th>bethgelab/bwki-notebooks</th>\n",
       "      <td>0</td>\n",
       "      <td>8613</td>\n",
       "      <td>8613</td>\n",
       "      <td>8613</td>\n",
       "      <td>8613</td>\n",
       "    </tr>\n",
       "    <tr>\n",
       "      <th>data-8/textbook</th>\n",
       "      <td>637</td>\n",
       "      <td>8237</td>\n",
       "      <td>8237</td>\n",
       "      <td>8237</td>\n",
       "      <td>8237</td>\n",
       "    </tr>\n",
       "    <tr>\n",
       "      <th>stencila/examples</th>\n",
       "      <td>161</td>\n",
       "      <td>8134</td>\n",
       "      <td>8134</td>\n",
       "      <td>8134</td>\n",
       "      <td>8134</td>\n",
       "    </tr>\n",
       "    <tr>\n",
       "      <th>wshuyi/demo-spacy-text-processing</th>\n",
       "      <td>751</td>\n",
       "      <td>7741</td>\n",
       "      <td>7741</td>\n",
       "      <td>7741</td>\n",
       "      <td>7741</td>\n",
       "    </tr>\n",
       "    <tr>\n",
       "      <th>illinois-scicomp/cs450-s19-binder</th>\n",
       "      <td>51</td>\n",
       "      <td>7044</td>\n",
       "      <td>7044</td>\n",
       "      <td>7044</td>\n",
       "      <td>7044</td>\n",
       "    </tr>\n",
       "  </tbody>\n",
       "</table>\n",
       "</div>"
      ],
      "text/plain": [
       "                                    origin  provider  timestamp      org  \\\n",
       "repo                                                                       \n",
       "ipython/ipython-in-depth             97857   1096129    1096129  1096129   \n",
       "jupyterlab/jupyterlab-demo           20716    242607     242607   242607   \n",
       "ines/spacy-io-binder                  9417    101270     101270   101270   \n",
       "DS-100/textbook                       6345     97981      97981    97981   \n",
       "bokeh/bokeh-notebooks                 4673     48752      48752    48752   \n",
       "binder-examples/r                     2667     35321      35321    35321   \n",
       "rationalmatter/juno-demo-notebooks    2536     31552      31552    31552   \n",
       "QuantStack/xeus-cling                 2056     27093      27093    27093   \n",
       "ines/spacy-course                     2829     17411      17411    17411   \n",
       "binder-examples/requirements          2874     17194      17194    17194   \n",
       "RasaHQ/rasa_core                        62     15900      15900    15900   \n",
       "numba/numba-examples                  1216     15623      15623    15623   \n",
       "binder-examples/julia-python          1084     15012      15012    15012   \n",
       "QISKit/qiskit-tutorial                  60     14413      14413    14413   \n",
       "dask/dask-examples                    1085      8948       8948     8948   \n",
       "bethgelab/bwki-notebooks                 0      8613       8613     8613   \n",
       "data-8/textbook                        637      8237       8237     8237   \n",
       "stencila/examples                      161      8134       8134     8134   \n",
       "wshuyi/demo-spacy-text-processing      751      7741       7741     7741   \n",
       "illinois-scicomp/cs450-s19-binder       51      7044       7044     7044   \n",
       "\n",
       "                                        ref  \n",
       "repo                                         \n",
       "ipython/ipython-in-depth            1096129  \n",
       "jupyterlab/jupyterlab-demo           242607  \n",
       "ines/spacy-io-binder                 101270  \n",
       "DS-100/textbook                       97981  \n",
       "bokeh/bokeh-notebooks                 48752  \n",
       "binder-examples/r                     35321  \n",
       "rationalmatter/juno-demo-notebooks    31552  \n",
       "QuantStack/xeus-cling                 27093  \n",
       "ines/spacy-course                     17411  \n",
       "binder-examples/requirements          17194  \n",
       "RasaHQ/rasa_core                      15900  \n",
       "numba/numba-examples                  15623  \n",
       "binder-examples/julia-python          15012  \n",
       "QISKit/qiskit-tutorial                14413  \n",
       "dask/dask-examples                     8948  \n",
       "bethgelab/bwki-notebooks               8613  \n",
       "data-8/textbook                        8237  \n",
       "stencila/examples                      8134  \n",
       "wshuyi/demo-spacy-text-processing      7741  \n",
       "illinois-scicomp/cs450-s19-binder      7044  "
      ]
     },
     "execution_count": 18,
     "metadata": {},
     "output_type": "execute_result"
    }
   ],
   "source": [
    "top20 = df.groupby(\"repo\").count().sort_values(\"timestamp\", ascending=False).head(20)\n",
    "top20"
   ]
  },
  {
   "cell_type": "code",
   "execution_count": 21,
   "metadata": {},
   "outputs": [
    {
     "name": "stdout",
     "output_type": "stream",
     "text": [
      "Cumulative top20 launches: 1824975\n",
      "The top20 repos are 77.91% of all launches.\n"
     ]
    }
   ],
   "source": [
    "print(\"Cumulative top20 launches:\", top20['ref'].sum())\n",
    "print(\"The top20 repos are {:.1f}% of all \"\n",
    "      \"launches.\".format(100 * top20['ref'].sum() / df.shape[0]))"
   ]
  },
  {
   "cell_type": "markdown",
   "metadata": {},
   "source": [
    "## Per org stats\n",
    "\n",
    "Needs more RAM than mybinder.org gives us for now"
   ]
  },
  {
   "cell_type": "code",
   "execution_count": null,
   "metadata": {},
   "outputs": [],
   "source": [
    "# add a new column showing total launches per repo\n",
    "totals_per_repo = (df.groupby([\"repo\"])\n",
    " .size()\n",
    " .reset_index(name='repo_counts'))"
   ]
  },
  {
   "cell_type": "code",
   "execution_count": null,
   "metadata": {},
   "outputs": [],
   "source": [
    "# add a nnew column showing total launches per org\n",
    "totals_per_org = (df.groupby([\"org\"])\n",
    " .size()\n",
    " .reset_index(name='org_counts'))"
   ]
  },
  {
   "cell_type": "code",
   "execution_count": null,
   "metadata": {},
   "outputs": [],
   "source": [
    "df_ = pd.merge(df, totals_per_repo, on='repo')\n",
    "df_ = pd.merge(df_, totals_per_org, on='org')\n",
    "#df_.sample(10)"
   ]
  },
  {
   "cell_type": "code",
   "execution_count": null,
   "metadata": {},
   "outputs": [],
   "source": [
    "(df.groupby(\"provider\")\n",
    "   .size()\n",
    "   .reset_index(name='Launches')\n",
    "   .sort_values('Launches', ascending=False))"
   ]
  },
  {
   "cell_type": "code",
   "execution_count": null,
   "metadata": {
    "scrolled": false
   },
   "outputs": [],
   "source": [
    "(df_.groupby([\"org\", \"repo\", \"ref\", \"repo_counts\", \"org_counts\"])\n",
    " .size()\n",
    " # give the column a nice name\n",
    " .reset_index(name='ref_counts')\n",
    " # sort first by total launches, then within a repo by ref launches\n",
    " .sort_values(['org_counts', 'repo_counts', 'ref_counts'],\n",
    "              ascending=[False,False, False])\n",
    " .set_index([\"org\", 'repo', 'ref'])\n",
    ")"
   ]
  },
  {
   "cell_type": "code",
   "execution_count": null,
   "metadata": {},
   "outputs": [],
   "source": []
  }
 ],
 "metadata": {
  "kernelspec": {
   "display_name": "Python 3",
   "language": "python",
   "name": "python3"
  },
  "language_info": {
   "codemirror_mode": {
    "name": "ipython",
    "version": 3
   },
   "file_extension": ".py",
   "mimetype": "text/x-python",
   "name": "python",
   "nbconvert_exporter": "python",
   "pygments_lexer": "ipython3",
   "version": "3.7.3"
  }
 },
 "nbformat": 4,
 "nbformat_minor": 2
}
